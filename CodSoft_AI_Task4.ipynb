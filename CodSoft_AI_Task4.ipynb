{
  "nbformat": 4,
  "nbformat_minor": 0,
  "metadata": {
    "colab": {
      "provenance": [],
      "authorship_tag": "ABX9TyNyJaEhrdRQvZPxYIaLnDkP",
      "include_colab_link": true
    },
    "kernelspec": {
      "name": "python3",
      "display_name": "Python 3"
    },
    "language_info": {
      "name": "python"
    }
  },
  "cells": [
    {
      "cell_type": "markdown",
      "metadata": {
        "id": "view-in-github",
        "colab_type": "text"
      },
      "source": [
        "<a href=\"https://colab.research.google.com/github/ChetanKrishnaPeela/CodSoft/blob/main/CodSoft_AI_Task4.ipynb\" target=\"_parent\"><img src=\"https://colab.research.google.com/assets/colab-badge.svg\" alt=\"Open In Colab\"/></a>"
      ]
    },
    {
      "cell_type": "code",
      "execution_count": 1,
      "metadata": {
        "colab": {
          "base_uri": "https://localhost:8080/"
        },
        "id": "CgdGI8dIhyTA",
        "outputId": "f3ea554b-d2e0-4c5d-df87-5126ce0aa281"
      },
      "outputs": [
        {
          "output_type": "stream",
          "name": "stdout",
          "text": [
            "Your Rated Movies:\n",
            "- The Matrix: 5/5 (Genres: Action, Sci-Fi)\n",
            "- Superbad: 4/5 (Genres: Comedy)\n",
            "- La La Land: 3/5 (Genres: Drama, Romance)\n",
            "Recommended Movies:\n",
            "- Inception (Similarity: 0.819, Genres: Action, Drama, Sci-Fi)\n",
            "- Star Wars (Similarity: 0.772, Genres: Action, Sci-Fi)\n",
            "- Deadpool (Similarity: 0.694, Genres: Action, Comedy)\n"
          ]
        }
      ],
      "source": [
        "import numpy as np\n",
        "from sklearn.metrics.pairwise import cosine_similarity\n",
        "\n",
        "def build_movie_dataset():\n",
        "    movies = {\n",
        "        \"The Matrix\": [1, 0, 0, 1, 0],\n",
        "        \"Inception\": [1, 0, 1, 1, 0],\n",
        "        \"The Shawshank Redemption\": [0, 0, 1, 0, 0],\n",
        "        \"Superbad\": [0, 1, 0, 0, 0],\n",
        "        \"La La Land\": [0, 0, 1, 0, 1],\n",
        "        \"Interstellar\": [0, 0, 1, 1, 0],\n",
        "        \"Deadpool\": [1, 1, 0, 0, 0],\n",
        "        \"The Notebook\": [0, 0, 1, 0, 1],\n",
        "        \"Star Wars\": [1, 0, 0, 1, 0],\n",
        "        \"Mean Girls\": [0, 1, 0, 0, 0]\n",
        "    }\n",
        "    genres = [\"Action\", \"Comedy\", \"Drama\", \"Sci-Fi\", \"Romance\"]\n",
        "    return movies, genres\n",
        "\n",
        "def create_user_profile(ratings, movies):\n",
        "    profile = np.zeros(len(list(movies.values())[0]))\n",
        "    total_weight = 0\n",
        "    for movie, rating in ratings.items():\n",
        "        profile += np.array(movies[movie]) * rating\n",
        "        total_weight += rating\n",
        "    if total_weight > 0:\n",
        "        profile /= total_weight\n",
        "    return profile\n",
        "\n",
        "def recommend_movies(user_ratings, movies, genres, top_n=3):\n",
        "    user_profile = create_user_profile(user_ratings, movies)\n",
        "\n",
        "    recommendations = []\n",
        "    for movie, genres_vector in movies.items():\n",
        "        if movie not in user_ratings:\n",
        "            similarity = cosine_similarity([user_profile], [genres_vector])[0][0]\n",
        "            recommendations.append((movie, similarity))\n",
        "\n",
        "    recommendations.sort(key=lambda x: x[1], reverse=True)\n",
        "    return recommendations[:top_n]\n",
        "\n",
        "def print_recommendations(recommendations, movies, genres):\n",
        "    print(\"Recommended Movies:\")\n",
        "    for movie, score in recommendations:\n",
        "        genre_list = [g for g, v in zip(genres, movies[movie]) if v == 1]\n",
        "        print(f\"- {movie} (Similarity: {score:.3f}, Genres: {', '.join(genre_list)})\")\n",
        "\n",
        "def main():\n",
        "    movies, genres = build_movie_dataset()\n",
        "\n",
        "    user_ratings = {\n",
        "        \"The Matrix\": 5,\n",
        "        \"Superbad\": 4,\n",
        "        \"La La Land\": 3\n",
        "    }\n",
        "\n",
        "    recommendations = recommend_movies(user_ratings, movies, genres)\n",
        "\n",
        "    print(\"Your Rated Movies:\")\n",
        "    for movie, rating in user_ratings.items():\n",
        "        genre_list = [g for g, v in zip(genres, movies[movie]) if v == 1]\n",
        "        print(f\"- {movie}: {rating}/5 (Genres: {', '.join(genre_list)})\")\n",
        "\n",
        "    print_recommendations(recommendations, movies, genres)\n",
        "\n",
        "if __name__ == '__main__':\n",
        "    main()"
      ]
    }
  ]
}