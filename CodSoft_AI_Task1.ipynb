{
  "nbformat": 4,
  "nbformat_minor": 0,
  "metadata": {
    "colab": {
      "provenance": [],
      "authorship_tag": "ABX9TyNDnkhFLwsE3V9YgiLWo9au",
      "include_colab_link": true
    },
    "kernelspec": {
      "name": "python3",
      "display_name": "Python 3"
    },
    "language_info": {
      "name": "python"
    }
  },
  "cells": [
    {
      "cell_type": "markdown",
      "metadata": {
        "id": "view-in-github",
        "colab_type": "text"
      },
      "source": [
        "<a href=\"https://colab.research.google.com/github/ChetanKrishnaPeela/CodSoft/blob/main/CodSoft_AI_Task1.ipynb\" target=\"_parent\"><img src=\"https://colab.research.google.com/assets/colab-badge.svg\" alt=\"Open In Colab\"/></a>"
      ]
    },
    {
      "cell_type": "code",
      "execution_count": 2,
      "metadata": {
        "colab": {
          "base_uri": "https://localhost:8080/"
        },
        "id": "S1FplAsThv2h",
        "outputId": "05baa2f0-2019-42da-e29c-b3159df1a40f"
      },
      "outputs": [
        {
          "output_type": "stream",
          "name": "stdout",
          "text": [
            "Welcome to the Rule-Based Chatbot! Type 'exit' to quit.\n",
            "You: hi\n",
            "Chatbot: Hello! How can I assist you today?\n",
            "You: who are you\n",
            "Chatbot: I'm AI, your friendly rule-based chatbot. Nice to meet you!\n",
            "You: what can you do\n",
            "Chatbot: I can chat about basic stuff! Try saying 'hello,' 'weather,' 'time,' or ask me a question.\n",
            "You: exit\n",
            "Chatbot: Goodbye! Have a great day!\n"
          ]
        }
      ],
      "source": [
        "import re\n",
        "from datetime import datetime\n",
        "\n",
        "def get_response(user_input):\n",
        "    user_input = user_input.lower().strip()\n",
        "\n",
        "    rules = [\n",
        "        (r'\\b(hi|hello|hey)\\b', \"Hello! How can I assist you today?\"),\n",
        "        (r'\\b(bye|goodbye|exit)\\b', \"Goodbye! Have a great day!\"),\n",
        "        (r'\\b(how are you|how\\'s it going)\\b', \"I'm doing great, thanks for asking! How about you?\"),\n",
        "        (r'\\b(weather|forecast)\\b', \"I can tell you the weather is always sunny in the digital world! Want a real forecast? Try a weather app!\"),\n",
        "        (r'\\b(time|what time is it)\\b', f\"It's 05:38 PM IST on Monday, June 02, 2025. What's on your schedule?\"),\n",
        "        (r'\\b(what is your name|who are you)\\b', \"I'm AI, your friendly rule-based chatbot. Nice to meet you!\"),\n",
        "        (r'\\b(thank you|thanks)\\b', \"You're welcome!\"),\n",
        "        (r'\\b(help|what can you do)\\b', \"I can chat about basic stuff! Try saying 'hello,' 'weather,' 'time,' or ask me a question.\"),\n",
        "        (r'\\b(love|like) you\\b', \"Aw, that's sweet! I like you too, but I'm just a bunch of code, you know!\"),\n",
        "        (r'.*\\?$', \"Hmm, that's an interesting question! Can you be more specific?\")  # Matches any question\n",
        "    ]\n",
        "\n",
        "    for pattern, response in rules:\n",
        "        if re.search(pattern, user_input):\n",
        "            return response\n",
        "\n",
        "    return \"Sorry, I didn't understand that. Try saying 'hello,' 'weather,' or 'time'!\"\n",
        "\n",
        "def chatbot():\n",
        "    print(\"Welcome to the Rule-Based Chatbot! Type 'exit' to quit.\")\n",
        "    while True:\n",
        "        user_input = input(\"You: \")\n",
        "        if user_input.lower() in ['exit', 'bye', 'goodbye']:\n",
        "            print(\"Chatbot: Goodbye! Have a great day!\")\n",
        "            break\n",
        "        response = get_response(user_input)\n",
        "        print(f\"Chatbot: {response}\")\n",
        "\n",
        "if __name__ == '__main__':\n",
        "    chatbot()"
      ]
    }
  ]
}